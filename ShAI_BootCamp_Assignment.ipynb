{
  "nbformat": 4,
  "nbformat_minor": 0,
  "metadata": {
    "colab": {
      "provenance": [],
      "toc_visible": true
    },
    "kernelspec": {
      "name": "python3",
      "display_name": "Python 3"
    },
    "language_info": {
      "name": "python"
    }
  },
  "cells": [
    {
      "cell_type": "markdown",
      "source": [
        "#About Dataset\n",
        "salaries dataset generally provides information about the employees of an organization in relation to their compensation. It typically includes details such as how much each employee is paid (their salary), their job titles, the departments they work in, and possibly additional information like their level of experience, education, and employment history within the organization."
      ],
      "metadata": {
        "id": "9veqgG-LVKd3"
      }
    },
    {
      "cell_type": "markdown",
      "source": [
        "# Features\n",
        "- 'Id'\n",
        "- 'EmployeeName'\n",
        "- 'JobTitle'\n",
        "- 'BasePay'\n",
        "- 'OvertimePay'\n",
        "- 'OtherPay'\n",
        "- 'Benefits'\n",
        "- 'TotalPay' -> salary\n",
        "- 'TotalPayBenefits'\n",
        "- 'Year'\n",
        "- 'Notes'\n",
        "- 'Agency'\n",
        "- 'Status'\n"
      ],
      "metadata": {
        "id": "cZwHdpBfVzOh"
      }
    },
    {
      "cell_type": "markdown",
      "source": [
        "# Tasks\n",
        "\n",
        "1. **Basic Data Exploration**: Identify the number of rows and columns in the dataset, determine the data types of each column, and check for missing values in each column.\n",
        "\n",
        "2. **Descriptive Statistics**: Calculate basic statistics mean, median, mode, minimum, and maximum salary, determine the range of salaries, and find the standard deviation.\n",
        "\n",
        "3. **Data Cleaning**: Handle missing data by suitable method with explain why you use it.\n",
        "\n",
        "4. **Basic Data Visualization**: Create histograms or bar charts to visualize the distribution of salaries, and use pie charts to represent the proportion of employees in different departments.\n",
        "\n",
        "5. **Grouped Analysis**: Group the data by one or more columns and calculate summary statistics for each group, and compare the average salaries across different groups.\n",
        "\n",
        "6. **Simple Correlation Analysis**: Identify any correlation between salary and another numerical column, and plot a scatter plot to visualize the relationship.\n",
        "\n",
        "8. **Summary of Insights**: Write a brief report summarizing the findings and insights from the analyses."
      ],
      "metadata": {
        "id": "X1VJposzVrSF"
      }
    },
    {
      "cell_type": "markdown",
      "source": [
        "# Very Important Note\n",
        "There is no fixed or singular solution for this assignment, so if anything is not clear, please do what you understand and provide an explanation."
      ],
      "metadata": {
        "id": "8_rNdHiGUT6A"
      }
    },
    {
      "cell_type": "code",
      "source": [
        "import pandas as pd\n",
        "import numpy as np\n",
        "\n",
        "# Load your dataset\n",
        "df = pd.read_csv('/content/Salaries.csv')"
      ],
      "metadata": {
        "id": "KmZfk5xkXI2y"
      },
      "execution_count": null,
      "outputs": []
    },
    {
      "cell_type": "code",
      "source": [
        "df"
      ],
      "metadata": {
        "id": "4bn6PQhYX9m4",
        "outputId": "c269712b-3857-40a7-eb12-cd68bed2788a",
        "colab": {
          "base_uri": "https://localhost:8080/",
          "height": 3943
        }
      },
      "execution_count": 33,
      "outputs": [
        {
          "output_type": "execute_result",
          "data": {
            "text/plain": [
              "        Id       EmployeeName                                        JobTitle  \\\n",
              "0        1     NATHANIEL FORD  GENERAL MANAGER-METROPOLITAN TRANSIT AUTHORITY   \n",
              "1        2       GARY JIMENEZ                 CAPTAIN III (POLICE DEPARTMENT)   \n",
              "2        3     ALBERT PARDINI                 CAPTAIN III (POLICE DEPARTMENT)   \n",
              "3        4  CHRISTOPHER CHONG            WIRE ROPE CABLE MAINTENANCE MECHANIC   \n",
              "4        5    PATRICK GARDNER    DEPUTY CHIEF OF DEPARTMENT,(FIRE DEPARTMENT)   \n",
              "...    ...                ...                                             ...   \n",
              "9849  9850        RICK BURGER                                     PIPE WELDER   \n",
              "9850  9851       ERIC SHAFFER                                REGISTERED NURSE   \n",
              "9851  9852      LEO BERNSTEIN                                POLICE OFFICER I   \n",
              "9852  9853          TAMI QUAN                             AIRPORT ELECTRICIAN   \n",
              "9853  9854           JOANNE D                                             NaN   \n",
              "\n",
              "        BasePay  OvertimePay   OtherPay  Benefits   TotalPay  \\\n",
              "0     167411.18         0.00  400184.25       NaN  567595.43   \n",
              "1     155966.02    245131.88  137811.38       NaN  538909.28   \n",
              "2     212739.13    106088.18   16452.60       NaN  335279.91   \n",
              "3      77916.00     56120.71  198306.90       NaN  332343.61   \n",
              "4     134401.60      9737.00  182234.59       NaN  326373.19   \n",
              "...         ...          ...        ...       ...        ...   \n",
              "9849   89916.75      6096.52    2070.00       NaN   98083.27   \n",
              "9850   92149.82      1069.72    4858.68       NaN   98078.22   \n",
              "9851   84009.21      3027.23   11030.81       NaN   98067.25   \n",
              "9852   96050.44        90.77    1920.00       NaN   98061.21   \n",
              "9853  107797.61      4078.00    6070.63       NaN  124674.77   \n",
              "\n",
              "      TotalPayBenefits    Year  Notes         Agency  Status  \n",
              "0            567595.43  2011.0    NaN  San Francisco     NaN  \n",
              "1            538909.28  2011.0    NaN  San Francisco     NaN  \n",
              "2            335279.91  2011.0    NaN  San Francisco     NaN  \n",
              "3            332343.61  2011.0    NaN  San Francisco     NaN  \n",
              "4            326373.19  2011.0    NaN  San Francisco     NaN  \n",
              "...                ...     ...    ...            ...     ...  \n",
              "9849          98083.27  2011.0    NaN  San Francisco     NaN  \n",
              "9850          98078.22  2011.0    NaN  San Francisco     NaN  \n",
              "9851          98067.25  2011.0    NaN  San Francisco     NaN  \n",
              "9852          98061.21  2011.0    NaN  San Francisco     NaN  \n",
              "9853         124674.77     NaN    NaN            NaN     NaN  \n",
              "\n",
              "[9854 rows x 13 columns]"
            ],
            "text/html": [
              "\n",
              "  <div id=\"df-c9abdfd2-eee7-4ebb-9d3d-2351faf20819\" class=\"colab-df-container\">\n",
              "    <div>\n",
              "<style scoped>\n",
              "    .dataframe tbody tr th:only-of-type {\n",
              "        vertical-align: middle;\n",
              "    }\n",
              "\n",
              "    .dataframe tbody tr th {\n",
              "        vertical-align: top;\n",
              "    }\n",
              "\n",
              "    .dataframe thead th {\n",
              "        text-align: right;\n",
              "    }\n",
              "</style>\n",
              "<table border=\"1\" class=\"dataframe\">\n",
              "  <thead>\n",
              "    <tr style=\"text-align: right;\">\n",
              "      <th></th>\n",
              "      <th>Id</th>\n",
              "      <th>EmployeeName</th>\n",
              "      <th>JobTitle</th>\n",
              "      <th>BasePay</th>\n",
              "      <th>OvertimePay</th>\n",
              "      <th>OtherPay</th>\n",
              "      <th>Benefits</th>\n",
              "      <th>TotalPay</th>\n",
              "      <th>TotalPayBenefits</th>\n",
              "      <th>Year</th>\n",
              "      <th>Notes</th>\n",
              "      <th>Agency</th>\n",
              "      <th>Status</th>\n",
              "    </tr>\n",
              "  </thead>\n",
              "  <tbody>\n",
              "    <tr>\n",
              "      <th>0</th>\n",
              "      <td>1</td>\n",
              "      <td>NATHANIEL FORD</td>\n",
              "      <td>GENERAL MANAGER-METROPOLITAN TRANSIT AUTHORITY</td>\n",
              "      <td>167411.18</td>\n",
              "      <td>0.00</td>\n",
              "      <td>400184.25</td>\n",
              "      <td>NaN</td>\n",
              "      <td>567595.43</td>\n",
              "      <td>567595.43</td>\n",
              "      <td>2011.0</td>\n",
              "      <td>NaN</td>\n",
              "      <td>San Francisco</td>\n",
              "      <td>NaN</td>\n",
              "    </tr>\n",
              "    <tr>\n",
              "      <th>1</th>\n",
              "      <td>2</td>\n",
              "      <td>GARY JIMENEZ</td>\n",
              "      <td>CAPTAIN III (POLICE DEPARTMENT)</td>\n",
              "      <td>155966.02</td>\n",
              "      <td>245131.88</td>\n",
              "      <td>137811.38</td>\n",
              "      <td>NaN</td>\n",
              "      <td>538909.28</td>\n",
              "      <td>538909.28</td>\n",
              "      <td>2011.0</td>\n",
              "      <td>NaN</td>\n",
              "      <td>San Francisco</td>\n",
              "      <td>NaN</td>\n",
              "    </tr>\n",
              "    <tr>\n",
              "      <th>2</th>\n",
              "      <td>3</td>\n",
              "      <td>ALBERT PARDINI</td>\n",
              "      <td>CAPTAIN III (POLICE DEPARTMENT)</td>\n",
              "      <td>212739.13</td>\n",
              "      <td>106088.18</td>\n",
              "      <td>16452.60</td>\n",
              "      <td>NaN</td>\n",
              "      <td>335279.91</td>\n",
              "      <td>335279.91</td>\n",
              "      <td>2011.0</td>\n",
              "      <td>NaN</td>\n",
              "      <td>San Francisco</td>\n",
              "      <td>NaN</td>\n",
              "    </tr>\n",
              "    <tr>\n",
              "      <th>3</th>\n",
              "      <td>4</td>\n",
              "      <td>CHRISTOPHER CHONG</td>\n",
              "      <td>WIRE ROPE CABLE MAINTENANCE MECHANIC</td>\n",
              "      <td>77916.00</td>\n",
              "      <td>56120.71</td>\n",
              "      <td>198306.90</td>\n",
              "      <td>NaN</td>\n",
              "      <td>332343.61</td>\n",
              "      <td>332343.61</td>\n",
              "      <td>2011.0</td>\n",
              "      <td>NaN</td>\n",
              "      <td>San Francisco</td>\n",
              "      <td>NaN</td>\n",
              "    </tr>\n",
              "    <tr>\n",
              "      <th>4</th>\n",
              "      <td>5</td>\n",
              "      <td>PATRICK GARDNER</td>\n",
              "      <td>DEPUTY CHIEF OF DEPARTMENT,(FIRE DEPARTMENT)</td>\n",
              "      <td>134401.60</td>\n",
              "      <td>9737.00</td>\n",
              "      <td>182234.59</td>\n",
              "      <td>NaN</td>\n",
              "      <td>326373.19</td>\n",
              "      <td>326373.19</td>\n",
              "      <td>2011.0</td>\n",
              "      <td>NaN</td>\n",
              "      <td>San Francisco</td>\n",
              "      <td>NaN</td>\n",
              "    </tr>\n",
              "    <tr>\n",
              "      <th>...</th>\n",
              "      <td>...</td>\n",
              "      <td>...</td>\n",
              "      <td>...</td>\n",
              "      <td>...</td>\n",
              "      <td>...</td>\n",
              "      <td>...</td>\n",
              "      <td>...</td>\n",
              "      <td>...</td>\n",
              "      <td>...</td>\n",
              "      <td>...</td>\n",
              "      <td>...</td>\n",
              "      <td>...</td>\n",
              "      <td>...</td>\n",
              "    </tr>\n",
              "    <tr>\n",
              "      <th>9849</th>\n",
              "      <td>9850</td>\n",
              "      <td>RICK BURGER</td>\n",
              "      <td>PIPE WELDER</td>\n",
              "      <td>89916.75</td>\n",
              "      <td>6096.52</td>\n",
              "      <td>2070.00</td>\n",
              "      <td>NaN</td>\n",
              "      <td>98083.27</td>\n",
              "      <td>98083.27</td>\n",
              "      <td>2011.0</td>\n",
              "      <td>NaN</td>\n",
              "      <td>San Francisco</td>\n",
              "      <td>NaN</td>\n",
              "    </tr>\n",
              "    <tr>\n",
              "      <th>9850</th>\n",
              "      <td>9851</td>\n",
              "      <td>ERIC SHAFFER</td>\n",
              "      <td>REGISTERED NURSE</td>\n",
              "      <td>92149.82</td>\n",
              "      <td>1069.72</td>\n",
              "      <td>4858.68</td>\n",
              "      <td>NaN</td>\n",
              "      <td>98078.22</td>\n",
              "      <td>98078.22</td>\n",
              "      <td>2011.0</td>\n",
              "      <td>NaN</td>\n",
              "      <td>San Francisco</td>\n",
              "      <td>NaN</td>\n",
              "    </tr>\n",
              "    <tr>\n",
              "      <th>9851</th>\n",
              "      <td>9852</td>\n",
              "      <td>LEO BERNSTEIN</td>\n",
              "      <td>POLICE OFFICER I</td>\n",
              "      <td>84009.21</td>\n",
              "      <td>3027.23</td>\n",
              "      <td>11030.81</td>\n",
              "      <td>NaN</td>\n",
              "      <td>98067.25</td>\n",
              "      <td>98067.25</td>\n",
              "      <td>2011.0</td>\n",
              "      <td>NaN</td>\n",
              "      <td>San Francisco</td>\n",
              "      <td>NaN</td>\n",
              "    </tr>\n",
              "    <tr>\n",
              "      <th>9852</th>\n",
              "      <td>9853</td>\n",
              "      <td>TAMI QUAN</td>\n",
              "      <td>AIRPORT ELECTRICIAN</td>\n",
              "      <td>96050.44</td>\n",
              "      <td>90.77</td>\n",
              "      <td>1920.00</td>\n",
              "      <td>NaN</td>\n",
              "      <td>98061.21</td>\n",
              "      <td>98061.21</td>\n",
              "      <td>2011.0</td>\n",
              "      <td>NaN</td>\n",
              "      <td>San Francisco</td>\n",
              "      <td>NaN</td>\n",
              "    </tr>\n",
              "    <tr>\n",
              "      <th>9853</th>\n",
              "      <td>9854</td>\n",
              "      <td>JOANNE D</td>\n",
              "      <td>NaN</td>\n",
              "      <td>107797.61</td>\n",
              "      <td>4078.00</td>\n",
              "      <td>6070.63</td>\n",
              "      <td>NaN</td>\n",
              "      <td>124674.77</td>\n",
              "      <td>124674.77</td>\n",
              "      <td>NaN</td>\n",
              "      <td>NaN</td>\n",
              "      <td>NaN</td>\n",
              "      <td>NaN</td>\n",
              "    </tr>\n",
              "  </tbody>\n",
              "</table>\n",
              "<p>9854 rows × 13 columns</p>\n",
              "</div>\n",
              "    <div class=\"colab-df-buttons\">\n",
              "\n",
              "  <div class=\"colab-df-container\">\n",
              "    <button class=\"colab-df-convert\" onclick=\"convertToInteractive('df-c9abdfd2-eee7-4ebb-9d3d-2351faf20819')\"\n",
              "            title=\"Convert this dataframe to an interactive table.\"\n",
              "            style=\"display:none;\">\n",
              "\n",
              "  <svg xmlns=\"http://www.w3.org/2000/svg\" height=\"24px\" viewBox=\"0 -960 960 960\">\n",
              "    <path d=\"M120-120v-720h720v720H120Zm60-500h600v-160H180v160Zm220 220h160v-160H400v160Zm0 220h160v-160H400v160ZM180-400h160v-160H180v160Zm440 0h160v-160H620v160ZM180-180h160v-160H180v160Zm440 0h160v-160H620v160Z\"/>\n",
              "  </svg>\n",
              "    </button>\n",
              "\n",
              "  <style>\n",
              "    .colab-df-container {\n",
              "      display:flex;\n",
              "      gap: 12px;\n",
              "    }\n",
              "\n",
              "    .colab-df-convert {\n",
              "      background-color: #E8F0FE;\n",
              "      border: none;\n",
              "      border-radius: 50%;\n",
              "      cursor: pointer;\n",
              "      display: none;\n",
              "      fill: #1967D2;\n",
              "      height: 32px;\n",
              "      padding: 0 0 0 0;\n",
              "      width: 32px;\n",
              "    }\n",
              "\n",
              "    .colab-df-convert:hover {\n",
              "      background-color: #E2EBFA;\n",
              "      box-shadow: 0px 1px 2px rgba(60, 64, 67, 0.3), 0px 1px 3px 1px rgba(60, 64, 67, 0.15);\n",
              "      fill: #174EA6;\n",
              "    }\n",
              "\n",
              "    .colab-df-buttons div {\n",
              "      margin-bottom: 4px;\n",
              "    }\n",
              "\n",
              "    [theme=dark] .colab-df-convert {\n",
              "      background-color: #3B4455;\n",
              "      fill: #D2E3FC;\n",
              "    }\n",
              "\n",
              "    [theme=dark] .colab-df-convert:hover {\n",
              "      background-color: #434B5C;\n",
              "      box-shadow: 0px 1px 3px 1px rgba(0, 0, 0, 0.15);\n",
              "      filter: drop-shadow(0px 1px 2px rgba(0, 0, 0, 0.3));\n",
              "      fill: #FFFFFF;\n",
              "    }\n",
              "  </style>\n",
              "\n",
              "    <script>\n",
              "      const buttonEl =\n",
              "        document.querySelector('#df-c9abdfd2-eee7-4ebb-9d3d-2351faf20819 button.colab-df-convert');\n",
              "      buttonEl.style.display =\n",
              "        google.colab.kernel.accessAllowed ? 'block' : 'none';\n",
              "\n",
              "      async function convertToInteractive(key) {\n",
              "        const element = document.querySelector('#df-c9abdfd2-eee7-4ebb-9d3d-2351faf20819');\n",
              "        const dataTable =\n",
              "          await google.colab.kernel.invokeFunction('convertToInteractive',\n",
              "                                                    [key], {});\n",
              "        if (!dataTable) return;\n",
              "\n",
              "        const docLinkHtml = 'Like what you see? Visit the ' +\n",
              "          '<a target=\"_blank\" href=https://colab.research.google.com/notebooks/data_table.ipynb>data table notebook</a>'\n",
              "          + ' to learn more about interactive tables.';\n",
              "        element.innerHTML = '';\n",
              "        dataTable['output_type'] = 'display_data';\n",
              "        await google.colab.output.renderOutput(dataTable, element);\n",
              "        const docLink = document.createElement('div');\n",
              "        docLink.innerHTML = docLinkHtml;\n",
              "        element.appendChild(docLink);\n",
              "      }\n",
              "    </script>\n",
              "  </div>\n",
              "\n",
              "\n",
              "<div id=\"df-f7092e9e-3e52-4cc1-a4ad-0643d39dda59\">\n",
              "  <button class=\"colab-df-quickchart\" onclick=\"quickchart('df-f7092e9e-3e52-4cc1-a4ad-0643d39dda59')\"\n",
              "            title=\"Suggest charts\"\n",
              "            style=\"display:none;\">\n",
              "\n",
              "<svg xmlns=\"http://www.w3.org/2000/svg\" height=\"24px\"viewBox=\"0 0 24 24\"\n",
              "     width=\"24px\">\n",
              "    <g>\n",
              "        <path d=\"M19 3H5c-1.1 0-2 .9-2 2v14c0 1.1.9 2 2 2h14c1.1 0 2-.9 2-2V5c0-1.1-.9-2-2-2zM9 17H7v-7h2v7zm4 0h-2V7h2v10zm4 0h-2v-4h2v4z\"/>\n",
              "    </g>\n",
              "</svg>\n",
              "  </button>\n",
              "\n",
              "<style>\n",
              "  .colab-df-quickchart {\n",
              "      --bg-color: #E8F0FE;\n",
              "      --fill-color: #1967D2;\n",
              "      --hover-bg-color: #E2EBFA;\n",
              "      --hover-fill-color: #174EA6;\n",
              "      --disabled-fill-color: #AAA;\n",
              "      --disabled-bg-color: #DDD;\n",
              "  }\n",
              "\n",
              "  [theme=dark] .colab-df-quickchart {\n",
              "      --bg-color: #3B4455;\n",
              "      --fill-color: #D2E3FC;\n",
              "      --hover-bg-color: #434B5C;\n",
              "      --hover-fill-color: #FFFFFF;\n",
              "      --disabled-bg-color: #3B4455;\n",
              "      --disabled-fill-color: #666;\n",
              "  }\n",
              "\n",
              "  .colab-df-quickchart {\n",
              "    background-color: var(--bg-color);\n",
              "    border: none;\n",
              "    border-radius: 50%;\n",
              "    cursor: pointer;\n",
              "    display: none;\n",
              "    fill: var(--fill-color);\n",
              "    height: 32px;\n",
              "    padding: 0;\n",
              "    width: 32px;\n",
              "  }\n",
              "\n",
              "  .colab-df-quickchart:hover {\n",
              "    background-color: var(--hover-bg-color);\n",
              "    box-shadow: 0 1px 2px rgba(60, 64, 67, 0.3), 0 1px 3px 1px rgba(60, 64, 67, 0.15);\n",
              "    fill: var(--button-hover-fill-color);\n",
              "  }\n",
              "\n",
              "  .colab-df-quickchart-complete:disabled,\n",
              "  .colab-df-quickchart-complete:disabled:hover {\n",
              "    background-color: var(--disabled-bg-color);\n",
              "    fill: var(--disabled-fill-color);\n",
              "    box-shadow: none;\n",
              "  }\n",
              "\n",
              "  .colab-df-spinner {\n",
              "    border: 2px solid var(--fill-color);\n",
              "    border-color: transparent;\n",
              "    border-bottom-color: var(--fill-color);\n",
              "    animation:\n",
              "      spin 1s steps(1) infinite;\n",
              "  }\n",
              "\n",
              "  @keyframes spin {\n",
              "    0% {\n",
              "      border-color: transparent;\n",
              "      border-bottom-color: var(--fill-color);\n",
              "      border-left-color: var(--fill-color);\n",
              "    }\n",
              "    20% {\n",
              "      border-color: transparent;\n",
              "      border-left-color: var(--fill-color);\n",
              "      border-top-color: var(--fill-color);\n",
              "    }\n",
              "    30% {\n",
              "      border-color: transparent;\n",
              "      border-left-color: var(--fill-color);\n",
              "      border-top-color: var(--fill-color);\n",
              "      border-right-color: var(--fill-color);\n",
              "    }\n",
              "    40% {\n",
              "      border-color: transparent;\n",
              "      border-right-color: var(--fill-color);\n",
              "      border-top-color: var(--fill-color);\n",
              "    }\n",
              "    60% {\n",
              "      border-color: transparent;\n",
              "      border-right-color: var(--fill-color);\n",
              "    }\n",
              "    80% {\n",
              "      border-color: transparent;\n",
              "      border-right-color: var(--fill-color);\n",
              "      border-bottom-color: var(--fill-color);\n",
              "    }\n",
              "    90% {\n",
              "      border-color: transparent;\n",
              "      border-bottom-color: var(--fill-color);\n",
              "    }\n",
              "  }\n",
              "</style>\n",
              "\n",
              "  <script>\n",
              "    async function quickchart(key) {\n",
              "      const quickchartButtonEl =\n",
              "        document.querySelector('#' + key + ' button');\n",
              "      quickchartButtonEl.disabled = true;  // To prevent multiple clicks.\n",
              "      quickchartButtonEl.classList.add('colab-df-spinner');\n",
              "      try {\n",
              "        const charts = await google.colab.kernel.invokeFunction(\n",
              "            'suggestCharts', [key], {});\n",
              "      } catch (error) {\n",
              "        console.error('Error during call to suggestCharts:', error);\n",
              "      }\n",
              "      quickchartButtonEl.classList.remove('colab-df-spinner');\n",
              "      quickchartButtonEl.classList.add('colab-df-quickchart-complete');\n",
              "    }\n",
              "    (() => {\n",
              "      let quickchartButtonEl =\n",
              "        document.querySelector('#df-f7092e9e-3e52-4cc1-a4ad-0643d39dda59 button');\n",
              "      quickchartButtonEl.style.display =\n",
              "        google.colab.kernel.accessAllowed ? 'block' : 'none';\n",
              "    })();\n",
              "  </script>\n",
              "</div>\n",
              "\n",
              "  <div id=\"id_1861f219-cf57-475d-849c-c2f207ace1aa\">\n",
              "    <style>\n",
              "      .colab-df-generate {\n",
              "        background-color: #E8F0FE;\n",
              "        border: none;\n",
              "        border-radius: 50%;\n",
              "        cursor: pointer;\n",
              "        display: none;\n",
              "        fill: #1967D2;\n",
              "        height: 32px;\n",
              "        padding: 0 0 0 0;\n",
              "        width: 32px;\n",
              "      }\n",
              "\n",
              "      .colab-df-generate:hover {\n",
              "        background-color: #E2EBFA;\n",
              "        box-shadow: 0px 1px 2px rgba(60, 64, 67, 0.3), 0px 1px 3px 1px rgba(60, 64, 67, 0.15);\n",
              "        fill: #174EA6;\n",
              "      }\n",
              "\n",
              "      [theme=dark] .colab-df-generate {\n",
              "        background-color: #3B4455;\n",
              "        fill: #D2E3FC;\n",
              "      }\n",
              "\n",
              "      [theme=dark] .colab-df-generate:hover {\n",
              "        background-color: #434B5C;\n",
              "        box-shadow: 0px 1px 3px 1px rgba(0, 0, 0, 0.15);\n",
              "        filter: drop-shadow(0px 1px 2px rgba(0, 0, 0, 0.3));\n",
              "        fill: #FFFFFF;\n",
              "      }\n",
              "    </style>\n",
              "    <button class=\"colab-df-generate\" onclick=\"generateWithVariable('df')\"\n",
              "            title=\"Generate code using this dataframe.\"\n",
              "            style=\"display:none;\">\n",
              "\n",
              "  <svg xmlns=\"http://www.w3.org/2000/svg\" height=\"24px\"viewBox=\"0 0 24 24\"\n",
              "       width=\"24px\">\n",
              "    <path d=\"M7,19H8.4L18.45,9,17,7.55,7,17.6ZM5,21V16.75L18.45,3.32a2,2,0,0,1,2.83,0l1.4,1.43a1.91,1.91,0,0,1,.58,1.4,1.91,1.91,0,0,1-.58,1.4L9.25,21ZM18.45,9,17,7.55Zm-12,3A5.31,5.31,0,0,0,4.9,8.1,5.31,5.31,0,0,0,1,6.5,5.31,5.31,0,0,0,4.9,4.9,5.31,5.31,0,0,0,6.5,1,5.31,5.31,0,0,0,8.1,4.9,5.31,5.31,0,0,0,12,6.5,5.46,5.46,0,0,0,6.5,12Z\"/>\n",
              "  </svg>\n",
              "    </button>\n",
              "    <script>\n",
              "      (() => {\n",
              "      const buttonEl =\n",
              "        document.querySelector('#id_1861f219-cf57-475d-849c-c2f207ace1aa button.colab-df-generate');\n",
              "      buttonEl.style.display =\n",
              "        google.colab.kernel.accessAllowed ? 'block' : 'none';\n",
              "\n",
              "      buttonEl.onclick = () => {\n",
              "        google.colab.notebook.generateWithVariable('df');\n",
              "      }\n",
              "      })();\n",
              "    </script>\n",
              "  </div>\n",
              "\n",
              "    </div>\n",
              "  </div>\n"
            ]
          },
          "metadata": {},
          "execution_count": 33
        }
      ]
    },
    {
      "cell_type": "code",
      "source": [
        "df.columns"
      ],
      "metadata": {
        "colab": {
          "base_uri": "https://localhost:8080/"
        },
        "id": "xIT514wlvvBZ",
        "outputId": "981fa29b-6711-44aa-c7e2-30a332d00160"
      },
      "execution_count": 3,
      "outputs": [
        {
          "output_type": "execute_result",
          "data": {
            "text/plain": [
              "Index(['Id', 'EmployeeName', 'JobTitle', 'BasePay', 'OvertimePay', 'OtherPay',\n",
              "       'Benefits', 'TotalPay', 'TotalPayBenefits', 'Year', 'Notes', 'Agency',\n",
              "       'Status'],\n",
              "      dtype='object')"
            ]
          },
          "metadata": {},
          "execution_count": 3
        }
      ]
    },
    {
      "cell_type": "markdown",
      "source": [
        "### Question 1\n",
        "Basic Data Exploration: Identify the number of rows and columns in the dataset, determine the data types of each column, and check for missing values in each column."
      ],
      "metadata": {
        "id": "lGtRfy9KSiGe"
      }
    },
    {
      "cell_type": "code",
      "source": [
        "# no of rows and columns\n",
        "df.shape"
      ],
      "metadata": {
        "id": "bbIN2ujHUyRx",
        "outputId": "dd758e5f-b5ac-450d-eeaa-375fdaf9b2e4",
        "colab": {
          "base_uri": "https://localhost:8080/"
        }
      },
      "execution_count": 5,
      "outputs": [
        {
          "output_type": "execute_result",
          "data": {
            "text/plain": [
              "(9854, 13)"
            ]
          },
          "metadata": {},
          "execution_count": 5
        }
      ]
    },
    {
      "cell_type": "code",
      "source": [
        "# datatypes of columns\n",
        "df.dtypes"
      ],
      "metadata": {
        "id": "YaN20_pRSu51",
        "outputId": "8401ae85-e5d3-4164-8d4e-01c637db7489",
        "colab": {
          "base_uri": "https://localhost:8080/"
        }
      },
      "execution_count": 6,
      "outputs": [
        {
          "output_type": "execute_result",
          "data": {
            "text/plain": [
              "Id                    int64\n",
              "EmployeeName         object\n",
              "JobTitle             object\n",
              "BasePay             float64\n",
              "OvertimePay         float64\n",
              "OtherPay            float64\n",
              "Benefits            float64\n",
              "TotalPay            float64\n",
              "TotalPayBenefits    float64\n",
              "Year                float64\n",
              "Notes               float64\n",
              "Agency               object\n",
              "Status              float64\n",
              "dtype: object"
            ]
          },
          "metadata": {},
          "execution_count": 6
        }
      ]
    },
    {
      "cell_type": "code",
      "source": [
        "# no of rows that has null values in every column\n",
        "df.isna().sum()"
      ],
      "metadata": {
        "id": "ay8dSt-xSu8J",
        "outputId": "94073c71-d852-4ce0-aec0-77d91b5e5895",
        "colab": {
          "base_uri": "https://localhost:8080/"
        }
      },
      "execution_count": 14,
      "outputs": [
        {
          "output_type": "execute_result",
          "data": {
            "text/plain": [
              "Id                     0\n",
              "EmployeeName           0\n",
              "JobTitle               1\n",
              "BasePay                1\n",
              "OvertimePay            1\n",
              "OtherPay               1\n",
              "Benefits            9854\n",
              "TotalPay               1\n",
              "TotalPayBenefits       1\n",
              "Year                   1\n",
              "Notes               9854\n",
              "Agency                 1\n",
              "Status              9854\n",
              "dtype: int64"
            ]
          },
          "metadata": {},
          "execution_count": 14
        }
      ]
    },
    {
      "cell_type": "markdown",
      "source": [
        "### Question 2\n",
        "Descriptive Statistics: Calculate basic statistics mean, median, mode, minimum, and maximum salary, determine the range of salaries, and find the standard deviation."
      ],
      "metadata": {
        "id": "NL_QQxBKTf9W"
      }
    },
    {
      "cell_type": "code",
      "source": [
        "# Calculate statistical measures for TotalPay\n",
        "\n",
        "mean_TotalPay = df['TotalPay'].mean()\n",
        "median_TotalPay = df['TotalPay'].median()\n",
        "mode_TotalPay = df['TotalPay'].mode()[0]  # mode() returns a Series, get the first value if you want a single mode\n",
        "min_TotalPay = df['TotalPay'].min()\n",
        "max_TotalPay = df['TotalPay'].max()\n",
        "TotalPay_range = max_TotalPay - min_TotalPay\n",
        "std_dev_TotalPay = df['TotalPay'].std()"
      ],
      "metadata": {
        "id": "_dovy31FUyUF"
      },
      "execution_count": 17,
      "outputs": []
    },
    {
      "cell_type": "markdown",
      "source": [
        "### Question 3\n",
        "Data Cleaning: Handle missing data by suitable method with explain why you use it."
      ],
      "metadata": {
        "id": "bHBz0WtRUVMt"
      }
    },
    {
      "cell_type": "code",
      "source": [
        "# Check for missing data\n",
        "missing_data = df.isna().sum()\n",
        "print(missing_data)"
      ],
      "metadata": {
        "id": "KDPLCwo6UwZX",
        "outputId": "ed5e5f14-1e3f-43bb-9523-cef72186a9a9",
        "colab": {
          "base_uri": "https://localhost:8080/"
        }
      },
      "execution_count": 19,
      "outputs": [
        {
          "output_type": "stream",
          "name": "stdout",
          "text": [
            "Id                     0\n",
            "EmployeeName           0\n",
            "JobTitle               1\n",
            "BasePay                1\n",
            "OvertimePay            1\n",
            "OtherPay               1\n",
            "Benefits            9854\n",
            "TotalPay               1\n",
            "TotalPayBenefits       1\n",
            "Year                   1\n",
            "Notes               9854\n",
            "Agency                 1\n",
            "Status              9854\n",
            "dtype: int64\n"
          ]
        }
      ]
    },
    {
      "cell_type": "code",
      "source": [
        "# If TotalPay column has missing values, we can decide to fill them with the median salary\n",
        "# median imputation was used because salaries can have a wide range and might not be normally distributed\n",
        "# removing the missing data can also be a solution but this only applies when the dataframe is large\n",
        "\n",
        "df['TotalPay'].fillna(df['TotalPay'].median(), inplace=True)\n",
        "df['BasePay'].fillna(df['BasePay'].median(), inplace=True)\n",
        "df['OvertimePay'].fillna(df['OvertimePay'].median(), inplace=True)\n",
        "df['OtherPay'].fillna(df['OtherPay'].median(), inplace=True)\n",
        "df['TotalPayBenefits'].fillna(df['TotalPayBenefits'].median(), inplace=True)"
      ],
      "metadata": {
        "id": "cz2_5MfuUwb3"
      },
      "execution_count": 24,
      "outputs": []
    },
    {
      "cell_type": "code",
      "source": [
        "# Check for missing data\n",
        "missing_data = df.isna().sum()\n",
        "print(missing_data)"
      ],
      "metadata": {
        "id": "p5pbAEQVWKW_",
        "outputId": "0818f67d-65d1-476f-f229-977a111044ab",
        "colab": {
          "base_uri": "https://localhost:8080/"
        }
      },
      "execution_count": 25,
      "outputs": [
        {
          "output_type": "stream",
          "name": "stdout",
          "text": [
            "Id                     0\n",
            "EmployeeName           0\n",
            "JobTitle               1\n",
            "BasePay                0\n",
            "OvertimePay            0\n",
            "OtherPay               0\n",
            "Benefits            9854\n",
            "TotalPay               0\n",
            "TotalPayBenefits       0\n",
            "Year                   1\n",
            "Notes               9854\n",
            "Agency                 1\n",
            "Status              9854\n",
            "dtype: int64\n"
          ]
        }
      ]
    },
    {
      "cell_type": "markdown",
      "source": [
        "### Question 4\n",
        "Basic Data Visualization: Create histograms or bar charts to visualize the distribution of salaries, and use pie charts to represent the proportion of employees in different departments."
      ],
      "metadata": {
        "id": "ppPgZL7aVx5P"
      }
    },
    {
      "cell_type": "code",
      "source": [
        "import matplotlib.pyplot as plt"
      ],
      "metadata": {
        "id": "CGd4BCuyXLHE"
      },
      "execution_count": 26,
      "outputs": []
    },
    {
      "cell_type": "code",
      "source": [
        "# Histogram of TotalPay\n",
        "plt.figure(figsize=(8, 4))\n",
        "plt.hist(df['TotalPay'], bins=30, alpha=0.5, edgecolor='w', color='blue')\n",
        "plt.grid(True)\n",
        "plt.title('Distribution of Total Pay')\n",
        "plt.xlabel('Total Pay')\n",
        "plt.ylabel('Frequency')\n",
        "plt.show()"
      ],
      "metadata": {
        "id": "1a9JYxW3UweB",
        "outputId": "e8bb3c3b-e373-4ae2-904d-d4ed114fc1d7",
        "colab": {
          "base_uri": "https://localhost:8080/",
          "height": 410
        }
      },
      "execution_count": 64,
      "outputs": [
        {
          "output_type": "display_data",
          "data": {
            "text/plain": [
              "<Figure size 800x400 with 1 Axes>"
            ],
            "image/png": "[encoded data removed]"
          },
          "metadata": {}
        }
      ]
    },
    {
      "cell_type": "code",
      "source": [
        "# Count the number of employees in every department based on job title\n",
        "JobTitle_counts = df['JobTitle'].value_counts()\n",
        "\n",
        "# to select top 10 designations\n",
        "top_10_jobs = JobTitle_counts[:10]\n",
        "other_sum = JobTitle_counts[10:].sum()\n",
        "top_10_jobs['Other'] = other_sum\n",
        "\n",
        "# Pie chart of designation\n",
        "colors = [\n",
        "    (0, 0, 1, 0.5),  # RGBA for blue with alpha=0.5\n",
        "    (0, 0.1, 0.9, 0.5),\n",
        "    (0, 0.2, 0.8, 0.5),\n",
        "    (0, 0.3, 0.7, 0.5),\n",
        "    (0, 0.4, 0.6, 0.5),\n",
        "    (0, 0.5, 0.5, 0.5),\n",
        "    (0, 0.6, 0.4, 0.5),\n",
        "    (0, 0.7, 0.3, 0.5),\n",
        "    (0, 0.8, 0.2, 0.5),\n",
        "    (0, 0.9, 0.1, 0.5),\n",
        "    (0, 1, 0, 0.5)\n",
        "]\n",
        "plt.figure(figsize=(10, 8))\n",
        "pie_wedges = plt.pie(top_10_jobs, autopct='%1.1f%%', startangle=140, pctdistance=0.85, colors=colors)\n",
        "centre_circle = plt.Circle((0, 0), 0.70, fc='white')\n",
        "fig = plt.gcf()\n",
        "fig.gca().add_artist(centre_circle)\n",
        "plt.legend(pie_wedges[0], top_10_jobs.index, loc='center left', bbox_to_anchor=(1, 0.5))\n",
        "plt.title('Proportion of Employees by Job Title (Top 10 + Other)')\n",
        "plt.show()\n"
      ],
      "metadata": {
        "id": "NwA_UT5DXbjj",
        "outputId": "2b4bcebb-c3c6-4450-8589-b5e28ce34ef6",
        "colab": {
          "base_uri": "https://localhost:8080/",
          "height": 675
        }
      },
      "execution_count": 66,
      "outputs": [
        {
          "output_type": "display_data",
          "data": {
            "text/plain": [
              "<Figure size 1000x800 with 1 Axes>"
            ],
            "image/png": "[encoded data removed]"
          },
          "metadata": {}
        }
      ]
    },
    {
      "cell_type": "markdown",
      "source": [
        "### Question 5\n",
        "Grouped Analysis: Group the data by one or more columns and calculate summary statistics for each group, and compare the average salaries across different groups."
      ],
      "metadata": {
        "id": "M87nXPqLaCwu"
      }
    },
    {
      "cell_type": "code",
      "source": [
        "grouped_data = df.groupby(['JobTitle'])\n",
        "summary_stats = grouped_data['TotalPay'].describe()\n",
        "print(summary_stats)"
      ],
      "metadata": {
        "id": "KcaNi6CWaLnN",
        "outputId": "ab59471b-7b95-4f6e-bfaa-d5315e847f82",
        "colab": {
          "base_uri": "https://localhost:8080/"
        }
      },
      "execution_count": 50,
      "outputs": [
        {
          "output_type": "stream",
          "name": "stdout",
          "text": [
            "                                        count           mean           std  \\\n",
            "JobTitle                                                                     \n",
            "ADMINISTRATIVE ENGINEER                   9.0  131975.663333   8462.154019   \n",
            "ADMINISTRATOR, SFGH MEDICAL CENTER        1.0  257124.440000           NaN   \n",
            "AIRPORT COMMUNICATIONS OPERATOR           3.0  103549.066667   2853.158941   \n",
            "AIRPORT ECONOMIC PLANNER                 13.0  108264.821538   4006.255461   \n",
            "AIRPORT ELECTRICIAN                      17.0  108707.828235   6144.361579   \n",
            "...                                       ...            ...           ...   \n",
            "WATER OPERATIONS ANALYST                 10.0  109903.610000   5626.721025   \n",
            "WATER SERVICE INSPECTOR                   3.0  113730.993333   6697.121894   \n",
            "WELDER                                    4.0  118607.265000   8265.261511   \n",
            "WIRE ROPE CABLE MAINTENANCE MECHANIC      7.0  152432.062857  80963.080055   \n",
            "WIRE ROPE CABLE MAINTENANCE SUPERVISOR    1.0  199628.970000           NaN   \n",
            "\n",
            "                                              min          25%         50%  \\\n",
            "JobTitle                                                                     \n",
            "ADMINISTRATIVE ENGINEER                 117194.48  130171.0200  130171.080   \n",
            "ADMINISTRATOR, SFGH MEDICAL CENTER      257124.44  257124.4400  257124.440   \n",
            "AIRPORT COMMUNICATIONS OPERATOR         101361.47  101935.4750  102509.480   \n",
            "AIRPORT ECONOMIC PLANNER                101590.74  106413.0200  109113.160   \n",
            "AIRPORT ELECTRICIAN                      98061.21  105029.5200  110872.370   \n",
            "...                                           ...          ...         ...   \n",
            "WATER OPERATIONS ANALYST                101640.05  108005.7675  110110.020   \n",
            "WATER SERVICE INSPECTOR                 105999.58  111726.7650  117453.950   \n",
            "WELDER                                  111030.28  111873.7075  117920.985   \n",
            "WIRE ROPE CABLE MAINTENANCE MECHANIC    107729.49  108489.5050  122833.480   \n",
            "WIRE ROPE CABLE MAINTENANCE SUPERVISOR  199628.97  199628.9700  199628.970   \n",
            "\n",
            "                                                75%        max  \n",
            "JobTitle                                                        \n",
            "ADMINISTRATIVE ENGINEER                 134976.9600  149322.23  \n",
            "ADMINISTRATOR, SFGH MEDICAL CENTER      257124.4400  257124.44  \n",
            "AIRPORT COMMUNICATIONS OPERATOR         104642.8650  106776.25  \n",
            "AIRPORT ECONOMIC PLANNER                111811.4900  111811.72  \n",
            "AIRPORT ELECTRICIAN                     112058.2300  118617.32  \n",
            "...                                             ...        ...  \n",
            "WATER OPERATIONS ANALYST                110288.7400  123512.98  \n",
            "WATER SERVICE INSPECTOR                 117596.7000  117739.45  \n",
            "WELDER                                  124654.5425  127556.81  \n",
            "WIRE ROPE CABLE MAINTENANCE MECHANIC    143569.4250  332343.61  \n",
            "WIRE ROPE CABLE MAINTENANCE SUPERVISOR  199628.9700  199628.97  \n",
            "\n",
            "[473 rows x 8 columns]\n"
          ]
        }
      ]
    },
    {
      "cell_type": "code",
      "source": [
        "# Calculate the average TotalPay for each group\n",
        "average_totalpay = grouped_data['TotalPay'].mean()\n",
        "\n",
        "# Sort the groups by average TotalPay for better comparison\n",
        "sorted_average_totalpay = pd.DataFrame(average_totalpay.sort_values(ascending=False))\n",
        "sorted_average_totalpay"
      ],
      "metadata": {
        "id": "HwPK_gkIaLpm",
        "outputId": "66728d0e-ed42-445e-f106-da6060567410",
        "colab": {
          "base_uri": "https://localhost:8080/",
          "height": 362
        }
      },
      "execution_count": 60,
      "outputs": [
        {
          "output_type": "execute_result",
          "data": {
            "text/plain": [
              "                                                     TotalPay\n",
              "JobTitle                                                     \n",
              "GENERAL MANAGER-METROPOLITAN TRANSIT AUTHORITY  399211.275000\n",
              "DEPUTY DIRECTOR OF INVESTMENTS                  307899.460000\n",
              "CHIEF OF DEPARTMENT, (FIRE DEPARTMENT)          302377.730000\n",
              "DEPUTY CHIEF OF DEPARTMENT,(FIRE DEPARTMENT)    279359.560000\n",
              "EXECUTIVE CONTRACT EMPLOYEE                     277438.840000\n",
              "...                                                       ...\n",
              "ASSISTANT FORENSIC TOXICOLOGIST I                98544.676000\n",
              "PLANNER III-ENVIRONMENTAL REVIEW                 98477.993333\n",
              "FARE INSPECTIONS SUPERVISOR/INVESTIGATOR         98331.030000\n",
              "EMPLOYMENT AND TRAINING SPECIALIST VI            98305.360000\n",
              "PIPE WELDER                                      98083.270000\n",
              "\n",
              "[473 rows x 1 columns]"
            ],
            "text/html": [
              "\n",
              "  <div id=\"df-62473169-0731-428e-894e-10d97efae02b\" class=\"colab-df-container\">\n",
              "    <div>\n",
              "<style scoped>\n",
              "    .dataframe tbody tr th:only-of-type {\n",
              "        vertical-align: middle;\n",
              "    }\n",
              "\n",
              "    .dataframe tbody tr th {\n",
              "        vertical-align: top;\n",
              "    }\n",
              "\n",
              "    .dataframe thead th {\n",
              "        text-align: right;\n",
              "    }\n",
              "</style>\n",
              "<table border=\"1\" class=\"dataframe\">\n",
              "  <thead>\n",
              "    <tr style=\"text-align: right;\">\n",
              "      <th></th>\n",
              "      <th>TotalPay</th>\n",
              "    </tr>\n",
              "    <tr>\n",
              "      <th>JobTitle</th>\n",
              "      <th></th>\n",
              "    </tr>\n",
              "  </thead>\n",
              "  <tbody>\n",
              "    <tr>\n",
              "      <th>GENERAL MANAGER-METROPOLITAN TRANSIT AUTHORITY</th>\n",
              "      <td>399211.275000</td>\n",
              "    </tr>\n",
              "    <tr>\n",
              "      <th>DEPUTY DIRECTOR OF INVESTMENTS</th>\n",
              "      <td>307899.460000</td>\n",
              "    </tr>\n",
              "    <tr>\n",
              "      <th>CHIEF OF DEPARTMENT, (FIRE DEPARTMENT)</th>\n",
              "      <td>302377.730000</td>\n",
              "    </tr>\n",
              "    <tr>\n",
              "      <th>DEPUTY CHIEF OF DEPARTMENT,(FIRE DEPARTMENT)</th>\n",
              "      <td>279359.560000</td>\n",
              "    </tr>\n",
              "    <tr>\n",
              "      <th>EXECUTIVE CONTRACT EMPLOYEE</th>\n",
              "      <td>277438.840000</td>\n",
              "    </tr>\n",
              "    <tr>\n",
              "      <th>...</th>\n",
              "      <td>...</td>\n",
              "    </tr>\n",
              "    <tr>\n",
              "      <th>ASSISTANT FORENSIC TOXICOLOGIST I</th>\n",
              "      <td>98544.676000</td>\n",
              "    </tr>\n",
              "    <tr>\n",
              "      <th>PLANNER III-ENVIRONMENTAL REVIEW</th>\n",
              "      <td>98477.993333</td>\n",
              "    </tr>\n",
              "    <tr>\n",
              "      <th>FARE INSPECTIONS SUPERVISOR/INVESTIGATOR</th>\n",
              "      <td>98331.030000</td>\n",
              "    </tr>\n",
              "    <tr>\n",
              "      <th>EMPLOYMENT AND TRAINING SPECIALIST VI</th>\n",
              "      <td>98305.360000</td>\n",
              "    </tr>\n",
              "    <tr>\n",
              "      <th>PIPE WELDER</th>\n",
              "      <td>98083.270000</td>\n",
              "    </tr>\n",
              "  </tbody>\n",
              "</table>\n",
              "<p>473 rows × 1 columns</p>\n",
              "</div>\n",
              "    <div class=\"colab-df-buttons\">\n",
              "\n",
              "  <div class=\"colab-df-container\">\n",
              "    <button class=\"colab-df-convert\" onclick=\"convertToInteractive('df-62473169-0731-428e-894e-10d97efae02b')\"\n",
              "            title=\"Convert this dataframe to an interactive table.\"\n",
              "            style=\"display:none;\">\n",
              "\n",
              "  <svg xmlns=\"http://www.w3.org/2000/svg\" height=\"24px\" viewBox=\"0 -960 960 960\">\n",
              "    <path d=\"M120-120v-720h720v720H120Zm60-500h600v-160H180v160Zm220 220h160v-160H400v160Zm0 220h160v-160H400v160ZM180-400h160v-160H180v160Zm440 0h160v-160H620v160ZM180-180h160v-160H180v160Zm440 0h160v-160H620v160Z\"/>\n",
              "  </svg>\n",
              "    </button>\n",
              "\n",
              "  <style>\n",
              "    .colab-df-container {\n",
              "      display:flex;\n",
              "      gap: 12px;\n",
              "    }\n",
              "\n",
              "    .colab-df-convert {\n",
              "      background-color: #E8F0FE;\n",
              "      border: none;\n",
              "      border-radius: 50%;\n",
              "      cursor: pointer;\n",
              "      display: none;\n",
              "      fill: #1967D2;\n",
              "      height: 32px;\n",
              "      padding: 0 0 0 0;\n",
              "      width: 32px;\n",
              "    }\n",
              "\n",
              "    .colab-df-convert:hover {\n",
              "      background-color: #E2EBFA;\n",
              "      box-shadow: 0px 1px 2px rgba(60, 64, 67, 0.3), 0px 1px 3px 1px rgba(60, 64, 67, 0.15);\n",
              "      fill: #174EA6;\n",
              "    }\n",
              "\n",
              "    .colab-df-buttons div {\n",
              "      margin-bottom: 4px;\n",
              "    }\n",
              "\n",
              "    [theme=dark] .colab-df-convert {\n",
              "      background-color: #3B4455;\n",
              "      fill: #D2E3FC;\n",
              "    }\n",
              "\n",
              "    [theme=dark] .colab-df-convert:hover {\n",
              "      background-color: #434B5C;\n",
              "      box-shadow: 0px 1px 3px 1px rgba(0, 0, 0, 0.15);\n",
              "      filter: drop-shadow(0px 1px 2px rgba(0, 0, 0, 0.3));\n",
              "      fill: #FFFFFF;\n",
              "    }\n",
              "  </style>\n",
              "\n",
              "    <script>\n",
              "      const buttonEl =\n",
              "        document.querySelector('#df-62473169-0731-428e-894e-10d97efae02b button.colab-df-convert');\n",
              "      buttonEl.style.display =\n",
              "        google.colab.kernel.accessAllowed ? 'block' : 'none';\n",
              "\n",
              "      async function convertToInteractive(key) {\n",
              "        const element = document.querySelector('#df-62473169-0731-428e-894e-10d97efae02b');\n",
              "        const dataTable =\n",
              "          await google.colab.kernel.invokeFunction('convertToInteractive',\n",
              "                                                    [key], {});\n",
              "        if (!dataTable) return;\n",
              "\n",
              "        const docLinkHtml = 'Like what you see? Visit the ' +\n",
              "          '<a target=\"_blank\" href=https://colab.research.google.com/notebooks/data_table.ipynb>data table notebook</a>'\n",
              "          + ' to learn more about interactive tables.';\n",
              "        element.innerHTML = '';\n",
              "        dataTable['output_type'] = 'display_data';\n",
              "        await google.colab.output.renderOutput(dataTable, element);\n",
              "        const docLink = document.createElement('div');\n",
              "        docLink.innerHTML = docLinkHtml;\n",
              "        element.appendChild(docLink);\n",
              "      }\n",
              "    </script>\n",
              "  </div>\n",
              "\n",
              "\n",
              "<div id=\"df-f565bbfe-1ec4-4fdb-92c7-8ccbe6355bbb\">\n",
              "  <button class=\"colab-df-quickchart\" onclick=\"quickchart('df-f565bbfe-1ec4-4fdb-92c7-8ccbe6355bbb')\"\n",
              "            title=\"Suggest charts\"\n",
              "            style=\"display:none;\">\n",
              "\n",
              "<svg xmlns=\"http://www.w3.org/2000/svg\" height=\"24px\"viewBox=\"0 0 24 24\"\n",
              "     width=\"24px\">\n",
              "    <g>\n",
              "        <path d=\"M19 3H5c-1.1 0-2 .9-2 2v14c0 1.1.9 2 2 2h14c1.1 0 2-.9 2-2V5c0-1.1-.9-2-2-2zM9 17H7v-7h2v7zm4 0h-2V7h2v10zm4 0h-2v-4h2v4z\"/>\n",
              "    </g>\n",
              "</svg>\n",
              "  </button>\n",
              "\n",
              "<style>\n",
              "  .colab-df-quickchart {\n",
              "      --bg-color: #E8F0FE;\n",
              "      --fill-color: #1967D2;\n",
              "      --hover-bg-color: #E2EBFA;\n",
              "      --hover-fill-color: #174EA6;\n",
              "      --disabled-fill-color: #AAA;\n",
              "      --disabled-bg-color: #DDD;\n",
              "  }\n",
              "\n",
              "  [theme=dark] .colab-df-quickchart {\n",
              "      --bg-color: #3B4455;\n",
              "      --fill-color: #D2E3FC;\n",
              "      --hover-bg-color: #434B5C;\n",
              "      --hover-fill-color: #FFFFFF;\n",
              "      --disabled-bg-color: #3B4455;\n",
              "      --disabled-fill-color: #666;\n",
              "  }\n",
              "\n",
              "  .colab-df-quickchart {\n",
              "    background-color: var(--bg-color);\n",
              "    border: none;\n",
              "    border-radius: 50%;\n",
              "    cursor: pointer;\n",
              "    display: none;\n",
              "    fill: var(--fill-color);\n",
              "    height: 32px;\n",
              "    padding: 0;\n",
              "    width: 32px;\n",
              "  }\n",
              "\n",
              "  .colab-df-quickchart:hover {\n",
              "    background-color: var(--hover-bg-color);\n",
              "    box-shadow: 0 1px 2px rgba(60, 64, 67, 0.3), 0 1px 3px 1px rgba(60, 64, 67, 0.15);\n",
              "    fill: var(--button-hover-fill-color);\n",
              "  }\n",
              "\n",
              "  .colab-df-quickchart-complete:disabled,\n",
              "  .colab-df-quickchart-complete:disabled:hover {\n",
              "    background-color: var(--disabled-bg-color);\n",
              "    fill: var(--disabled-fill-color);\n",
              "    box-shadow: none;\n",
              "  }\n",
              "\n",
              "  .colab-df-spinner {\n",
              "    border: 2px solid var(--fill-color);\n",
              "    border-color: transparent;\n",
              "    border-bottom-color: var(--fill-color);\n",
              "    animation:\n",
              "      spin 1s steps(1) infinite;\n",
              "  }\n",
              "\n",
              "  @keyframes spin {\n",
              "    0% {\n",
              "      border-color: transparent;\n",
              "      border-bottom-color: var(--fill-color);\n",
              "      border-left-color: var(--fill-color);\n",
              "    }\n",
              "    20% {\n",
              "      border-color: transparent;\n",
              "      border-left-color: var(--fill-color);\n",
              "      border-top-color: var(--fill-color);\n",
              "    }\n",
              "    30% {\n",
              "      border-color: transparent;\n",
              "      border-left-color: var(--fill-color);\n",
              "      border-top-color: var(--fill-color);\n",
              "      border-right-color: var(--fill-color);\n",
              "    }\n",
              "    40% {\n",
              "      border-color: transparent;\n",
              "      border-right-color: var(--fill-color);\n",
              "      border-top-color: var(--fill-color);\n",
              "    }\n",
              "    60% {\n",
              "      border-color: transparent;\n",
              "      border-right-color: var(--fill-color);\n",
              "    }\n",
              "    80% {\n",
              "      border-color: transparent;\n",
              "      border-right-color: var(--fill-color);\n",
              "      border-bottom-color: var(--fill-color);\n",
              "    }\n",
              "    90% {\n",
              "      border-color: transparent;\n",
              "      border-bottom-color: var(--fill-color);\n",
              "    }\n",
              "  }\n",
              "</style>\n",
              "\n",
              "  <script>\n",
              "    async function quickchart(key) {\n",
              "      const quickchartButtonEl =\n",
              "        document.querySelector('#' + key + ' button');\n",
              "      quickchartButtonEl.disabled = true;  // To prevent multiple clicks.\n",
              "      quickchartButtonEl.classList.add('colab-df-spinner');\n",
              "      try {\n",
              "        const charts = await google.colab.kernel.invokeFunction(\n",
              "            'suggestCharts', [key], {});\n",
              "      } catch (error) {\n",
              "        console.error('Error during call to suggestCharts:', error);\n",
              "      }\n",
              "      quickchartButtonEl.classList.remove('colab-df-spinner');\n",
              "      quickchartButtonEl.classList.add('colab-df-quickchart-complete');\n",
              "    }\n",
              "    (() => {\n",
              "      let quickchartButtonEl =\n",
              "        document.querySelector('#df-f565bbfe-1ec4-4fdb-92c7-8ccbe6355bbb button');\n",
              "      quickchartButtonEl.style.display =\n",
              "        google.colab.kernel.accessAllowed ? 'block' : 'none';\n",
              "    })();\n",
              "  </script>\n",
              "</div>\n",
              "\n",
              "  <div id=\"id_b5ed1968-355b-4525-970d-7081bde2e0fb\">\n",
              "    <style>\n",
              "      .colab-df-generate {\n",
              "        background-color: #E8F0FE;\n",
              "        border: none;\n",
              "        border-radius: 50%;\n",
              "        cursor: pointer;\n",
              "        display: none;\n",
              "        fill: #1967D2;\n",
              "        height: 32px;\n",
              "        padding: 0 0 0 0;\n",
              "        width: 32px;\n",
              "      }\n",
              "\n",
              "      .colab-df-generate:hover {\n",
              "        background-color: #E2EBFA;\n",
              "        box-shadow: 0px 1px 2px rgba(60, 64, 67, 0.3), 0px 1px 3px 1px rgba(60, 64, 67, 0.15);\n",
              "        fill: #174EA6;\n",
              "      }\n",
              "\n",
              "      [theme=dark] .colab-df-generate {\n",
              "        background-color: #3B4455;\n",
              "        fill: #D2E3FC;\n",
              "      }\n",
              "\n",
              "      [theme=dark] .colab-df-generate:hover {\n",
              "        background-color: #434B5C;\n",
              "        box-shadow: 0px 1px 3px 1px rgba(0, 0, 0, 0.15);\n",
              "        filter: drop-shadow(0px 1px 2px rgba(0, 0, 0, 0.3));\n",
              "        fill: #FFFFFF;\n",
              "      }\n",
              "    </style>\n",
              "    <button class=\"colab-df-generate\" onclick=\"generateWithVariable('sorted_average_totalpay')\"\n",
              "            title=\"Generate code using this dataframe.\"\n",
              "            style=\"display:none;\">\n",
              "\n",
              "  <svg xmlns=\"http://www.w3.org/2000/svg\" height=\"24px\"viewBox=\"0 0 24 24\"\n",
              "       width=\"24px\">\n",
              "    <path d=\"M7,19H8.4L18.45,9,17,7.55,7,17.6ZM5,21V16.75L18.45,3.32a2,2,0,0,1,2.83,0l1.4,1.43a1.91,1.91,0,0,1,.58,1.4,1.91,1.91,0,0,1-.58,1.4L9.25,21ZM18.45,9,17,7.55Zm-12,3A5.31,5.31,0,0,0,4.9,8.1,5.31,5.31,0,0,0,1,6.5,5.31,5.31,0,0,0,4.9,4.9,5.31,5.31,0,0,0,6.5,1,5.31,5.31,0,0,0,8.1,4.9,5.31,5.31,0,0,0,12,6.5,5.46,5.46,0,0,0,6.5,12Z\"/>\n",
              "  </svg>\n",
              "    </button>\n",
              "    <script>\n",
              "      (() => {\n",
              "      const buttonEl =\n",
              "        document.querySelector('#id_b5ed1968-355b-4525-970d-7081bde2e0fb button.colab-df-generate');\n",
              "      buttonEl.style.display =\n",
              "        google.colab.kernel.accessAllowed ? 'block' : 'none';\n",
              "\n",
              "      buttonEl.onclick = () => {\n",
              "        google.colab.notebook.generateWithVariable('sorted_average_totalpay');\n",
              "      }\n",
              "      })();\n",
              "    </script>\n",
              "  </div>\n",
              "\n",
              "    </div>\n",
              "  </div>\n"
            ]
          },
          "metadata": {},
          "execution_count": 60
        }
      ]
    },
    {
      "cell_type": "code",
      "source": [
        "type(sorted_average_totalpay)"
      ],
      "metadata": {
        "id": "GBSKtTk0aLsW",
        "outputId": "8ff85716-a9e0-4c7d-85fb-b7168a2523b8",
        "colab": {
          "base_uri": "https://localhost:8080/"
        }
      },
      "execution_count": 52,
      "outputs": [
        {
          "output_type": "execute_result",
          "data": {
            "text/plain": [
              "pandas.core.series.Series"
            ]
          },
          "metadata": {},
          "execution_count": 52
        }
      ]
    },
    {
      "cell_type": "markdown",
      "source": [
        "### Question 6\n",
        "Simple Correlation Analysis: Identify any correlation between salary and another numerical column, and plot a scatter plot to visualize the relationship."
      ],
      "metadata": {
        "id": "jKOaqdnWbSrt"
      }
    },
    {
      "cell_type": "code",
      "source": [
        "correlation = df['TotalPay'].corr(df['OvertimePay'])\n",
        "print(f'Correlation between TotalPay and OvertimePay: {correlation}')"
      ],
      "metadata": {
        "id": "mKGtaihcaLun",
        "outputId": "110c0634-a92f-4cad-f92b-5066a44810cc",
        "colab": {
          "base_uri": "https://localhost:8080/"
        }
      },
      "execution_count": 61,
      "outputs": [
        {
          "output_type": "stream",
          "name": "stdout",
          "text": [
            "Correlation between TotalPay and OvertimePay: 0.3843270849566349\n"
          ]
        }
      ]
    },
    {
      "cell_type": "code",
      "source": [
        "plt.figure(figsize=(8, 4))\n",
        "plt.scatter(df['OvertimePay'], df['TotalPay'], alpha=0.5, edgecolor='w', color='blue')\n",
        "plt.title('Scatter Plot of TotalPay vs. OvertimePay')\n",
        "plt.xlabel('OvertimePay')\n",
        "plt.ylabel('TotalPay')\n",
        "plt.grid(True)\n",
        "plt.show()"
      ],
      "metadata": {
        "id": "MX8b1KR6brbu",
        "outputId": "60700647-8366-4409-db3d-dffd1c49ddf3",
        "colab": {
          "base_uri": "https://localhost:8080/",
          "height": 410
        }
      },
      "execution_count": 63,
      "outputs": [
        {
          "output_type": "display_data",
          "data": {
            "text/plain": [
              "<Figure size 800x400 with 1 Axes>"
            ],
            "image/png": "[encoded data removed]"
          },
          "metadata": {}
        }
      ]
    },
    {
      "cell_type": "markdown",
      "source": [
        "### Question 7\n",
        "Summary of Insights: Write a brief report summarizing the findings and insights from the analyses."
      ],
      "metadata": {
        "id": "kapR7iWNbmJf"
      }
    },
    {
      "cell_type": "markdown",
      "source": [
        "From the analysis above few points has been noticed:\n",
        "\n",
        "*   'GENERAL MANAGER-METROPOLITAN TRANSIT AUTHORITY' Position has the highest paid salary with average of\t399211.275.\n",
        "*   PIPE WELDER\tPosition has the lowest paid salary with average of 98083.27.\n",
        "* There are 473 positions in this file.\n",
        "* 'Registered Nurse' position is more common job in this dataset.\n",
        "* Benefits, status, notes columns are empty columns and have not been used.\n",
        "\n"
      ],
      "metadata": {
        "id": "HCDzcCOzeNpV"
      }
    }
  ]
}